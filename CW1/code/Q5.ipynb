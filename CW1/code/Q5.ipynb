{
 "cells": [
  {
   "cell_type": "code",
   "execution_count": 1,
   "metadata": {},
   "outputs": [],
   "source": [
    "import os\n",
    "import pandas as pd\n",
    "import numpy as np\n",
    "import seaborn as sns\n",
    "import matplotlib.pyplot as plt"
   ]
  },
  {
   "cell_type": "code",
   "execution_count": 2,
   "metadata": {},
   "outputs": [],
   "source": [
    "data_path = os.path.join(os.getcwd(), '../data', 'faces_train_data.csv')\n",
    "df = pd.read_csv(data_path, delimiter = ',')"
   ]
  },
  {
   "cell_type": "code",
   "execution_count": 3,
   "metadata": {},
   "outputs": [],
   "source": [
    "def CalculateEntropy(attribute):\n",
    "    length = len(attribute)\n",
    "    if length <= 1:\n",
    "        return 0\n",
    "    \n",
    "    counts = np.bincount(attribute)\n",
    "    probs = counts[np.nonzero(counts)] / length\n",
    "    classes = len(probs)\n",
    "    if classes <= 1:\n",
    "        return 0\n",
    "\n",
    "    return np.sum(-probs * np.log2(probs))"
   ]
  },
  {
   "cell_type": "code",
   "execution_count": 4,
   "metadata": {},
   "outputs": [
    {
     "data": {
      "text/plain": [
       "0.9994708218806826"
      ]
     },
     "execution_count": 4,
     "metadata": {},
     "output_type": "execute_result"
    }
   ],
   "source": [
    "CalculateEntropy(df['smiling'])"
   ]
  },
  {
   "cell_type": "code",
   "execution_count": 5,
   "metadata": {},
   "outputs": [],
   "source": [
    "no_smile = df.loc[df['smiling'] == 0].index.tolist()\n",
    "use1 = df['x48'].reindex(index = no_smile)"
   ]
  },
  {
   "cell_type": "code",
   "execution_count": 6,
   "metadata": {},
   "outputs": [
    {
     "data": {
      "image/png": "[encoded data removed]",
      "text/plain": [
       "<Figure size 432x288 with 1 Axes>"
      ]
     },
     "metadata": {
      "needs_background": "light"
     },
     "output_type": "display_data"
    }
   ],
   "source": [
    "plt.hist(x = use1, bins = 100, color = 'lightblue', edgecolor = 'black')\n",
    "plt.xlabel('x48')\n",
    "plt.ylabel('frequence')\n",
    "plt.title('Histogram of \\'x48\\' for not smiling')\n",
    "plt.show()"
   ]
  },
  {
   "cell_type": "code",
   "execution_count": 7,
   "metadata": {},
   "outputs": [],
   "source": [
    "smile = df.loc[df['smiling'] == 1].index.tolist()\n",
    "use2 = df['x48'].reindex(index = smile)"
   ]
  },
  {
   "cell_type": "code",
   "execution_count": 8,
   "metadata": {
    "scrolled": false
   },
   "outputs": [
    {
     "data": {
      "image/png": "[encoded data removed]",
      "text/plain": [
       "<Figure size 432x288 with 1 Axes>"
      ]
     },
     "metadata": {
      "needs_background": "light"
     },
     "output_type": "display_data"
    }
   ],
   "source": [
    "plt.hist(x = use2 , bins = 100, color = 'lightblue', edgecolor = 'black')\n",
    "plt.xlabel('x48')\n",
    "plt.ylabel('frequence')\n",
    "plt.title('Histogram of \\'x48\\' for smiling')\n",
    "plt.show()"
   ]
  },
  {
   "cell_type": "code",
   "execution_count": 9,
   "metadata": {},
   "outputs": [
    {
     "name": "stdout",
     "output_type": "stream",
     "text": [
      "(413,)\n",
      "(1071,)\n"
     ]
    }
   ],
   "source": [
    "right = df[df['x48'] > -0.7]\n",
    "r_smile = right.loc[df['smiling'] == 1].index.tolist()\n",
    "r1 = right['x48'].reindex(index = r_smile)\n",
    "\n",
    "r_nosmile = right.loc[df['smiling'] == 0].index.tolist()\n",
    "r0 = right['x48'].reindex(index = r_nosmile)\n",
    "\n",
    "print(r1.shape)\n",
    "print(r0.shape)"
   ]
  },
  {
   "cell_type": "code",
   "execution_count": 10,
   "metadata": {},
   "outputs": [
    {
     "name": "stdout",
     "output_type": "stream",
     "text": [
      "(1922,)\n",
      "(1394,)\n"
     ]
    }
   ],
   "source": [
    "left = df[df['x48'] <= -0.7]\n",
    "l_smile = left.loc[df['smiling'] == 1].index.tolist()\n",
    "l1 = left['x48'].reindex(index = l_smile)\n",
    "\n",
    "l_nosmile = left.loc[df['smiling'] == 0].index.tolist()\n",
    "l0 = left['x48'].reindex(index = l_nosmile)\n",
    "\n",
    "print(l1.shape)\n",
    "print(l0.shape)"
   ]
  },
  {
   "cell_type": "code",
   "execution_count": 11,
   "metadata": {},
   "outputs": [],
   "source": [
    "def entropy(num1, num2, total):\n",
    "    pro1 = num1/total\n",
    "    pro2 = num2/total\n",
    "\n",
    "    return (-pro1 * np.log2(pro1))+(-pro2 * np.log2(pro2))  "
   ]
  },
  {
   "cell_type": "code",
   "execution_count": 12,
   "metadata": {},
   "outputs": [
    {
     "data": {
      "text/plain": [
       "0.057567551465329436"
      ]
     },
     "execution_count": 12,
     "metadata": {},
     "output_type": "execute_result"
    }
   ],
   "source": [
    "h1 = entropy(len(use1), len(use2), 4800)\n",
    "h2 = entropy(len(r0),len(r1), len(right))\n",
    "h3 = entropy(len(l0),len(l1), len(left))\n",
    "h = h1 - (len(right)/4800)*h2 - (len(left)/4800)*h3\n",
    "h"
   ]
  }
 ],
 "metadata": {
  "kernelspec": {
   "display_name": "Python 3",
   "language": "python",
   "name": "python3"
  },
  "language_info": {
   "codemirror_mode": {
    "name": "ipython",
    "version": 3
   },
   "file_extension": ".py",
   "mimetype": "text/x-python",
   "name": "python",
   "nbconvert_exporter": "python",
   "pygments_lexer": "ipython3",
   "version": "3.7.9"
  }
 },
 "nbformat": 4,
 "nbformat_minor": 4
}

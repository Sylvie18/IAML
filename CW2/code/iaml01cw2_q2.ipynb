{
 "cells": [
  {
   "cell_type": "code",
   "execution_count": 1,
   "metadata": {
    "scrolled": true
   },
   "outputs": [
    {
     "name": "stderr",
     "output_type": "stream",
     "text": [
      "/Users/xx/anaconda3/envs/py3iaml/lib/python3.7/site-packages/sklearn/utils/__init__.py:4: DeprecationWarning: Using or importing the ABCs from 'collections' instead of from 'collections.abc' is deprecated since Python 3.3,and in 3.9 it will stop working\n",
      "  from collections import Sequence\n"
     ]
    }
   ],
   "source": [
    "#--- Code for loading the data set and pre-processing --->\n",
    "# NB: You can edit the following and add code (e.g. code for loading sklearn) if necessary.\n",
    "import numpy as np\n",
    "import scipy\n",
    "import matplotlib.pyplot as plt\n",
    "import seaborn as sns\n",
    "from sklearn.linear_model import LogisticRegression\n",
    "from sklearn.metrics import accuracy_score\n",
    "from sklearn.metrics import confusion_matrix\n",
    "from sklearn.svm import SVC\n",
    "from sklearn.decomposition import PCA\n",
    "from sklearn.model_selection import cross_val_score\n",
    "\n",
    "import sys\n",
    "sys.path.append('../helpers')\n",
    "from iaml01cw2_helpers import load_FashionMNIST\n",
    "Xtrn, Ytrn, Xtst, Ytst = load_FashionMNIST('../FashionMNIST')\n",
    "\n",
    "Xtrn_orig = Xtrn.copy()\n",
    "Xtst_orig = Xtst.copy()\n",
    "\n",
    "Xtrn /= 255.0\n",
    "Xtst /= 255.0\n",
    "\n",
    "Xmean = np.mean(Xtrn, axis=0)\n",
    "\n",
    "Xtrn_nm = Xtrn - Xmean\n",
    "Xtst_nm = Xtst - Xmean\n",
    "#<----"
   ]
  },
  {
   "cell_type": "code",
   "execution_count": 2,
   "metadata": {},
   "outputs": [
    {
     "name": "stdout",
     "output_type": "stream",
     "text": [
      "0.8401\n",
      "[[819   3  15  50   7   4  89   1  12   0]\n",
      " [  5 953   4  27   5   0   3   1   2   0]\n",
      " [ 27   4 731  11 133   0  82   2   9   1]\n",
      " [ 31  15  14 866  33   0  37   0   4   0]\n",
      " [  0   3 115  38 760   2  72   0  10   0]\n",
      " [  2   0   0   1   0 911   0  56  10  20]\n",
      " [147   3 128  46 108   0 539   0  28   1]\n",
      " [  0   0   0   0   0  32   0 936   1  31]\n",
      " [  7   1   6  11   3   7  15   5 945   0]\n",
      " [  0   0   0   1   0  15   1  42   0 941]]\n"
     ]
    }
   ],
   "source": [
    "# Q2.1\n",
    "def iaml01cw2_q2_1():\n",
    "#\n",
    "    lr = LogisticRegression()\n",
    "    lr.fit(Xtrn_nm, Ytrn)\n",
    "    y_pred = lr.predict(Xtst_nm)\n",
    "\n",
    "    print(accuracy_score(Ytst, y_pred))\n",
    "    print(confusion_matrix(Ytst, y_pred))\n",
    "    \n",
    "iaml01cw2_q2_1()   # comment this out when you run the function"
   ]
  },
  {
   "cell_type": "code",
   "execution_count": 3,
   "metadata": {},
   "outputs": [
    {
     "name": "stdout",
     "output_type": "stream",
     "text": [
      "0.8461\n",
      "[[845   2   8  51   4   4  72   0  14   0]\n",
      " [  4 951   7  31   5   0   1   0   1   0]\n",
      " [ 15   2 748  11 137   0  79   0   8   0]\n",
      " [ 32   6  12 881  26   0  40   0   3   0]\n",
      " [  1   0  98  36 775   0  86   0   4   0]\n",
      " [  0   0   0   1   0 914   0  57   2  26]\n",
      " [185   1 122  39  95   0 533   0  25   0]\n",
      " [  0   0   0   0   0  34   0 925   0  41]\n",
      " [  3   1   8   5   2   4  13   4 959   1]\n",
      " [  0   0   0   0   0  22   0  47   1 930]]\n"
     ]
    }
   ],
   "source": [
    "# Q2.2\n",
    "def iaml01cw2_q2_2():\n",
    "#\n",
    "    svm = SVC()\n",
    "    svm.fit(Xtrn_nm, Ytrn)\n",
    "    y_pred = svm.predict(Xtst_nm)\n",
    "\n",
    "    print(accuracy_score(Ytst, y_pred))\n",
    "    print(confusion_matrix(Ytst, y_pred))\n",
    "    \n",
    "iaml01cw2_q2_2()   # comment this out when you run the function"
   ]
  },
  {
   "cell_type": "code",
   "execution_count": 4,
   "metadata": {},
   "outputs": [
    {
     "data": {
      "image/png": "[encoded data removed]",
      "text/plain": [
       "<Figure size 432x288 with 2 Axes>"
      ]
     },
     "metadata": {
      "needs_background": "light"
     },
     "output_type": "display_data"
    }
   ],
   "source": [
    "# Q2.3\n",
    "def iaml01cw2_q2_3():\n",
    "#\n",
    "    lr = LogisticRegression()\n",
    "    lr.fit(Xtrn_nm, Ytrn)\n",
    "    \n",
    "    pca = PCA(n_components=2).fit(Xtrn_nm)\n",
    "\n",
    "    sigma1 = np.sqrt(pca.explained_variance_[0])\n",
    "    sigma2 = np.sqrt(pca.explained_variance_[1])\n",
    "    x_min, x_max = -5*sigma1, 5*sigma1\n",
    "    y_min, y_max = -5*sigma2, 5*sigma2\n",
    "\n",
    "    x, y = np.meshgrid(np.arange(x_min,x_max,(x_max-x_min)/100), np.arange(y_min,y_max,(y_max-y_min)/100))\n",
    "    x_new = np.c_[x.ravel(),y.ravel()]\n",
    "    x_new = pca.inverse_transform(x_new)\n",
    "    z = lr.predict(x_new).reshape(x.shape)\n",
    "\n",
    "    plt.contourf(x, y, z, cmap=plt.cm.coolwarm, levels=np.arange(-1,9))\n",
    "    plt.colorbar()\n",
    "    plt.title(\"Decision Regions for the Logistic Regression Classifier\")\n",
    "    plt.xlabel('1st principal component')\n",
    "    plt.ylabel('2nd principal component')\n",
    "    plt.savefig('Q2_3.pdf')\n",
    "    plt.show()\n",
    "\n",
    "iaml01cw2_q2_3()   # comment this out when you run the function"
   ]
  },
  {
   "cell_type": "code",
   "execution_count": 5,
   "metadata": {},
   "outputs": [
    {
     "data": {
      "image/png": "[encoded data removed]",
      "text/plain": [
       "<Figure size 432x288 with 2 Axes>"
      ]
     },
     "metadata": {
      "needs_background": "light"
     },
     "output_type": "display_data"
    }
   ],
   "source": [
    "# Q2.4\n",
    "def iaml01cw2_q2_4():\n",
    "#\n",
    "    svm = SVC()\n",
    "    svm.fit(Xtrn_nm, Ytrn)\n",
    "    \n",
    "    pca = PCA(n_components=2).fit(Xtrn_nm)\n",
    "\n",
    "    sigma1 = np.sqrt(pca.explained_variance_[0])\n",
    "    sigma2 = np.sqrt(pca.explained_variance_[1])\n",
    "    x_min, x_max = -5*sigma1, 5*sigma1\n",
    "    y_min, y_max = -5*sigma2, 5*sigma2\n",
    "\n",
    "    x, y = np.meshgrid(np.arange(x_min,x_max,(x_max-x_min)/100), np.arange(y_min,y_max,(y_max-y_min)/100))\n",
    "    x_new = np.c_[x.ravel(),y.ravel()]\n",
    "    x_new = pca.inverse_transform(x_new)\n",
    "    z = svm.predict(x_new).reshape(x.shape)\n",
    "\n",
    "    plt.contourf(x, y, z, cmap=plt.cm.coolwarm, levels=np.linspace(-1,9,11))\n",
    "    plt.colorbar().set_ticks(np.linspace(-1,9,11))\n",
    "    plt.title(\"Decision Regions for the SVM Classifier\")\n",
    "    plt.xlabel('1st principal component')\n",
    "    plt.ylabel('2nd principal component')\n",
    "    plt.savefig('Q2_4.pdf')\n",
    "    plt.show()\n",
    "\n",
    "iaml01cw2_q2_4()   # comment this out when you run the function"
   ]
  },
  {
   "cell_type": "code",
   "execution_count": 6,
   "metadata": {},
   "outputs": [
    {
     "name": "stdout",
     "output_type": "stream",
     "text": [
      "0.8565023106939273\n",
      "1.3333333333333335\n",
      "21.544346900318846\n"
     ]
    },
    {
     "data": {
      "image/png": "[encoded data removed]",
      "text/plain": [
       "<Figure size 432x288 with 1 Axes>"
      ]
     },
     "metadata": {
      "needs_background": "light"
     },
     "output_type": "display_data"
    }
   ],
   "source": [
    "# Q2.5\n",
    "def iaml01cw2_q2_5():\n",
    "#\n",
    "    Xsmall = Xtrn_nm[Ytrn==0][:1000]\n",
    "    for label in range(1,10):\n",
    "        Xsmall = np.r_[Xsmall,Xtrn_nm[Ytrn==label][:1000]]\n",
    "\n",
    "    Ysmall = np.zeros(1000, dtype=int)\n",
    "    for label in range(1,10):\n",
    "        Ysmall = np.r_[Ysmall,np.full(1000, label, dtype=int)[:1000]]\n",
    "\n",
    "    Clist = np.logspace(-2, 3, 10)\n",
    "    score = []\n",
    "\n",
    "    for C in Clist: \n",
    "        svm = SVC(C=C)\n",
    "        score.append(cross_val_score(svm, Xsmall, Ysmall, cv=3))\n",
    "        \n",
    "    mean_score = np.mean(score, axis=1)\n",
    "    max_index = np.argmax(mean_score)\n",
    "    print(max(mean_score))\n",
    "    print(np.log10(Clist[max_index]))\n",
    "    print(Clist[max_index])\n",
    "        \n",
    "    plt.title('Mean 3-fold Cross-Validated Classification Accuracy')\n",
    "    plt.grid(linestyle=':')\n",
    "\n",
    "    plt.plot(Clist, mean_score, marker='.', c='green')\n",
    "    plt.xscale('log')\n",
    "    plt.xlabel('regularisation parameter C')\n",
    "    plt.ylabel('mean accuracy score')\n",
    "    plt.savefig('Q2_5.pdf')\n",
    "    plt.show()\n",
    "\n",
    "iaml01cw2_q2_5()   # comment this out when you run the function"
   ]
  },
  {
   "cell_type": "code",
   "execution_count": 7,
   "metadata": {},
   "outputs": [
    {
     "name": "stdout",
     "output_type": "stream",
     "text": [
      "0.9084333333333333\n",
      "0.8765\n"
     ]
    }
   ],
   "source": [
    "# Q2.6 \n",
    "def iaml01cw2_q2_6():\n",
    "#\n",
    "    svm = SVC(C=21.544)\n",
    "    svm.fit(Xtrn_nm, Ytrn)\n",
    "    y_pred = svm.predict(Xtst_nm)\n",
    "\n",
    "    print(svm.score(Xtrn_nm, Ytrn))\n",
    "    print(accuracy_score(Ytst, y_pred))\n",
    "\n",
    "iaml01cw2_q2_6()   # comment this out when you run the function"
   ]
  }
 ],
 "metadata": {
  "kernelspec": {
   "display_name": "Python 3",
   "language": "python",
   "name": "python3"
  },
  "language_info": {
   "codemirror_mode": {
    "name": "ipython",
    "version": 3
   },
   "file_extension": ".py",
   "mimetype": "text/x-python",
   "name": "python",
   "nbconvert_exporter": "python",
   "pygments_lexer": "ipython3",
   "version": "3.7.9"
  }
 },
 "nbformat": 4,
 "nbformat_minor": 4
}
